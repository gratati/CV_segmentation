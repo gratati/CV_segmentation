{
  "cells": [
    {
      "cell_type": "markdown",
      "metadata": {
        "id": "view-in-github",
        "colab_type": "text"
      },
      "source": [
        "<a href=\"https://colab.research.google.com/github/gratati/CV_segmentation/blob/main/%D0%A0%D0%B0%D1%81%D0%BA%D0%B0%D0%B4%D1%80%D0%BE%D0%B2%D0%BA%D0%B0_%D0%B2%D0%B8%D0%B4%D0%B5%D0%BE%D1%84%D0%B0%D0%BB%D0%BE%D0%B2_ipynb%22%22.ipynb\" target=\"_parent\"><img src=\"https://colab.research.google.com/assets/colab-badge.svg\" alt=\"Open In Colab\"/></a>"
      ]
    },
    {
      "cell_type": "code",
      "execution_count": null,
      "metadata": {
        "colab": {
          "base_uri": "https://localhost:8080/"
        },
        "id": "CzacsyFAy3rP",
        "outputId": "eac137e1-c0fa-4bc0-d08c-ee10ad8c06ad"
      },
      "outputs": [
        {
          "output_type": "stream",
          "name": "stdout",
          "text": [
            "Mounted at /content/drive\n"
          ]
        }
      ],
      "source": [
        "   #@title Подключение google-диска\n",
        "\n",
        "from google.colab import drive\n",
        "\n",
        "drive.mount('/content/drive')"
      ]
    },
    {
      "cell_type": "code",
      "execution_count": null,
      "metadata": {
        "id": "ddFfZY0FWGDO"
      },
      "outputs": [],
      "source": [
        "import os\n",
        "import cv2"
      ]
    },
    {
      "cell_type": "code",
      "execution_count": null,
      "metadata": {
        "id": "BfK8L0ZFVQIr"
      },
      "outputs": [],
      "source": [
        "#@title Константы\n",
        "\n",
        "PATH = '/content/drive/MyDrive/'\n",
        "VIDEO_PATH = '/content/drive/MyDrive/filename.mp4'\n",
        "DATA_SET_PATH = '/content/drive/MyDrive/filename_data_set'\n",
        "YOLO_IMGSZ = 640\n",
        "\n",
        "# Папка на google-диске с \"нарезанными\" imgs\n",
        "if not os.path.exists(DATA_SET_PATH):\n",
        "  os.makedirs(DATA_SET_PATH)"
      ]
    },
    {
      "cell_type": "code",
      "execution_count": null,
      "metadata": {
        "id": "VV77nIStVd28"
      },
      "outputs": [],
      "source": [
        "#@title Скрипт раскадровки видео\n",
        "\n",
        "def get_imgs_from_custom_video(step: int = 3,                       # шаг сохранения img\n",
        "                               video_path: str = VIDEO_PATH,        # путь к видео\n",
        "                               data_set_path: str = DATA_SET_PATH,  # путь к папке с img\n",
        "                               reshape: bool = False) -> None:      # изменить размер img под yolo(imgsz=640)\n",
        "\n",
        "    vid_cap = cv2.VideoCapture(video_path)\n",
        "    assert vid_cap.isOpened()\n",
        "\n",
        "    img_w, img_h, fps_video, img_count = (vid_cap.get(cv2.CAP_PROP_FRAME_WIDTH),\n",
        "                                          vid_cap.get(cv2.CAP_PROP_FRAME_HEIGHT),\n",
        "                                          vid_cap.get(cv2.CAP_PROP_FPS),\n",
        "                                          vid_cap.get(cv2.CAP_PROP_FRAME_COUNT))\n",
        "    print(f'Всего кадров: {img_count}. Ширина кадров: {img_w}. Высота кадров: {img_h}')\n",
        "    print(f'FPS: {fps_video}')\n",
        "\n",
        "    # решейп под обучение yolo\n",
        "    if reshape:\n",
        "      vid_cap.set(cv2.CAP_PROP_FRAME_WIDTH, YOLO_IMGSZ)\n",
        "      vid_cap.set(cv2.CAP_PROP_FRAME_HEIGHT, YOLO_IMGSZ)\n",
        "\n",
        "    success_read, frame = vid_cap.read()\n",
        "    while success_read:\n",
        "      current_frame = int(vid_cap.get(cv2.CAP_PROP_POS_FRAMES))\n",
        "\n",
        "      # сохранение img\n",
        "      cv2.imwrite(f'{data_set_path}/{current_frame:05d}.jpg', frame)\n",
        "\n",
        "      # пропуск step кадров\n",
        "      if step:\n",
        "        next_img_index = current_frame + step\n",
        "        if next_img_index < img_count:\n",
        "          vid_cap.set(cv2.CAP_PROP_POS_FRAMES, next_img_index)\n",
        "        else:\n",
        "          break\n",
        "\n",
        "      success_read, frame = vid_cap.read()\n",
        "\n",
        "    vid_cap.release()\n"
      ]
    },
    {
      "cell_type": "code",
      "execution_count": null,
      "metadata": {
        "id": "vthYqiFVVjws"
      },
      "outputs": [],
      "source": [
        "#@title Раскадровка видео\n",
        "\n",
        "get_imgs_from_custom_video(step=25,\n",
        "                           video_path=VIDEO_PATH,\n",
        "                           data_set_path=DATA_SET_PATH,\n",
        "                           reshape=True)"
      ]
    },
    {
      "cell_type": "markdown",
      "metadata": {
        "id": "HEKC7K29VoKn"
      },
      "source": [
        "### Раскадровка нескольких видео в папке"
      ]
    },
    {
      "cell_type": "code",
      "execution_count": null,
      "metadata": {
        "id": "k93pXxCnZN0m"
      },
      "outputs": [],
      "source": [
        "import os\n",
        "import cv2\n",
        "\n",
        "PATH = '/content/drive/MyDrive/'\n",
        "VIDEO_FOLDER = '/content/drive/MyDrive/foldername'\n",
        "DATA_SET_PATH = '/content/drive/MyDrive/foldername_exit'\n",
        "YOLO_IMGSZ = 640\n",
        "\n",
        "def get_imgs_from_custom_video(step: int = 3,\n",
        "                               video_path: str = VIDEO_FOLDER,\n",
        "                               data_set_path: str = DATA_SET_PATH,\n",
        "                               reshape: bool = False) -> None:\n",
        "    print(f'Обработка видео: {video_path}')\n",
        "    vid_cap = cv2.VideoCapture(video_path)\n",
        "    if not vid_cap.isOpened():\n",
        "        print(f\"Ошибка: Не удалось открыть видео: {video_path}\")\n",
        "        return\n",
        "\n",
        "    img_w = vid_cap.get(cv2.CAP_PROP_FRAME_WIDTH)\n",
        "    img_h = vid_cap.get(cv2.CAP_PROP_FRAME_HEIGHT)\n",
        "    fps_video = vid_cap.get(cv2.CAP_PROP_FPS)\n",
        "    img_count = vid_cap.get(cv2.CAP_PROP_FRAME_COUNT)\n",
        "    print(f'Всего кадров: {img_count}. Ширина кадров: {img_w}. Высота кадров: {img_h}')\n",
        "    print(f'FPS: {fps_video}')\n",
        "\n",
        "    if reshape:\n",
        "        vid_cap.set(cv2.CAP_PROP_FRAME_WIDTH, YOLO_IMGSZ)\n",
        "        vid_cap.set(cv2.CAP_PROP_FRAME_HEIGHT, YOLO_IMGSZ)\n",
        "\n",
        "    frame_count = 0\n",
        "    video_folder_name = os.path.splitext(os.path.basename(video_path))[0]\n",
        "    video_data_set_path = os.path.join(data_set_path, video_folder_name)\n",
        "    if not os.path.exists(video_data_set_path):\n",
        "        os.makedirs(video_data_set_path)\n",
        "\n",
        "    while True:\n",
        "        ret, frame = vid_cap.read()\n",
        "        if not ret:\n",
        "            break\n",
        "\n",
        "        frame_count += 1\n",
        "\n",
        "        # Сохранение каждого 50-го кадра\n",
        "        if frame_count % step == 0:\n",
        "            frame_path = os.path.join(video_data_set_path, f\"{frame_count:05d}.jpg\")\n",
        "            cv2.imwrite(frame_path, frame)\n",
        "            print(f'Сохранено: {frame_path}')\n",
        "\n",
        "    vid_cap.release()\n",
        "\n",
        "def process_videos_in_folder(folder_path, step=3, reshape=False):\n",
        "    video_files = [f for f in os.listdir(folder_path) if os.path.isfile(os.path.join(folder_path, f))]\n",
        "    if not video_files:\n",
        "        print(f\"Ошибка: Нет видеофайлов в папке: {folder_path}\")\n",
        "        return\n",
        "\n",
        "    for video_file in video_files:\n",
        "        video_path = os.path.join(folder_path, video_file)\n",
        "        get_imgs_from_custom_video(step=step, video_path=video_path, reshape=reshape)\n",
        "\n",
        "# Обработка всех видео в указанной папке\n",
        "process_videos_in_folder(VIDEO_FOLDER, step=3, reshape=True)\n"
      ]
    },
    {
      "cell_type": "markdown",
      "source": [
        "###Собираем все изображения в одну папку"
      ],
      "metadata": {
        "id": "qw-q12Spfuyf"
      }
    },
    {
      "cell_type": "code",
      "source": [
        "import os\n",
        "import shutil\n",
        "import re\n",
        "\n",
        "# Исходная папка, содержащая все другие папки\n",
        "source_dir = '/content/drive/MyDrive/foldername'\n",
        "\n",
        "# Папка для сохранения изображений\n",
        "output_dir = '/content/drive/MyDrive/foldername_all'\n",
        "\n",
        "# Создаем папку для сохранения изображений, если она не существует\n",
        "if not os.path.exists(output_dir):\n",
        "    os.makedirs(output_dir)\n",
        "\n",
        "# Функция для перемещения и переименования файлов\n",
        "def move_and_rename_files(src, dst):\n",
        "    file_counts = {}\n",
        "    for filename in os.listdir(src):\n",
        "        src_file = os.path.join(src, filename)\n",
        "        if os.path.isfile(src_file):\n",
        "            # Проверяем, является ли файл изображением\n",
        "            if filename.endswith('.jpg') or filename.endswith('.png'):\n",
        "                # Используем имя файла без расширения в качестве ключа для подсчета\n",
        "                base_name = os.path.splitext(filename)[0]\n",
        "                if base_name in file_counts:\n",
        "                    file_counts[base_name] += 1\n",
        "                else:\n",
        "                    file_counts[base_name] = 1\n",
        "                new_filename = f\"{base_name}_{file_counts[base_name]:04d}.{os.path.splitext(filename)[1]}\"\n",
        "                dst_file = os.path.join(dst, new_filename)\n",
        "                shutil.move(src_file, dst_file)\n",
        "\n",
        "# Рекурсивная функция для обхода папок и подпапок\n",
        "def traverse_directories(directory):\n",
        "    for item in os.listdir(directory):\n",
        "        item_path = os.path.join(directory, item)\n",
        "        if os.path.isdir(item_path):\n",
        "            traverse_directories(item_path)\n",
        "            move_and_rename_files(item_path, output_dir)\n",
        "\n",
        "# Запускаем обход папок и сохранение изображений\n",
        "traverse_directories(source_dir)"
      ],
      "metadata": {
        "id": "z1uB0HXGqtQh"
      },
      "execution_count": null,
      "outputs": []
    },
    {
      "cell_type": "markdown",
      "source": [
        "##Подсчет колличества изображений в итоговой папке"
      ],
      "metadata": {
        "id": "hCNhqPBw7SF1"
      }
    },
    {
      "cell_type": "code",
      "source": [
        "import os\n",
        "\n",
        "# Путь к папке с изображениями\n",
        "image_folder = '/content/drive/MyDrive/foldername_all'\n",
        "\n",
        "# Получение списка всех файлов в папке\n",
        "files = os.listdir(image_folder)\n",
        "\n",
        "# Фильтрация списка, оставляя только файлы с расширениями изображений\n",
        "image_files = [f for f in files if f.endswith('.png') or f.endswith('.jpg') or f.endswith('.jpeg')]\n",
        "\n",
        "# Подсчет количества изображений\n",
        "num_images = len(image_files)\n",
        "\n",
        "print(f\"Количество изображений в папке: {num_images}\")"
      ],
      "metadata": {
        "id": "KHtS38BQhBcd"
      },
      "execution_count": null,
      "outputs": []
    }
  ],
  "metadata": {
    "colab": {
      "provenance": [],
      "include_colab_link": true
    },
    "kernelspec": {
      "display_name": "Python 3",
      "name": "python3"
    },
    "language_info": {
      "name": "python"
    }
  },
  "nbformat": 4,
  "nbformat_minor": 0
}